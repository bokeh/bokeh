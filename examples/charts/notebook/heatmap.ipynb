{
 "metadata": {
  "name": "",
  "signature": "sha256:c934c9c69c8ebc055c41dfff0a8bafe844785f0f73b91cf95bcd41cb917b2983"
 },
 "nbformat": 3,
 "nbformat_minor": 0,
 "worksheets": [
  {
   "cells": [
    {
     "cell_type": "code",
     "collapsed": false,
     "input": [
      "import pandas as pd\n",
      "\n",
      "from bokeh.charts import HeatMap, output_notebook, show\n",
      "from bokeh.palettes import Blues9 as palette\n",
      "from bokeh.sampledata.unemployment1948 import data"
     ],
     "language": "python",
     "metadata": {},
     "outputs": []
    },
    {
     "cell_type": "code",
     "collapsed": false,
     "input": [
      "output_notebook()"
     ],
     "language": "python",
     "metadata": {},
     "outputs": []
    },
    {
     "cell_type": "code",
     "collapsed": false,
     "input": [
      "df = data[data.columns[:-2]]\n",
      "df2 = df.set_index(df[df.columns[0]].astype(str))\n",
      "df2.drop(df.columns[0], axis=1, inplace=True)\n",
      "df3 = df2.transpose()"
     ],
     "language": "python",
     "metadata": {},
     "outputs": []
    },
    {
     "cell_type": "code",
     "collapsed": false,
     "input": [
      "hm = HeatMap(\n",
      "    df3, palette=palette, xlabel='Years since 1948', ylabel='Months', \n",
      "    title=\"Unemployment, pandas input\", height=400, width=1000)\n",
      "show(hm)"
     ],
     "language": "python",
     "metadata": {},
     "outputs": []
    },
    {
     "cell_type": "code",
     "collapsed": false,
     "input": [
      "hm_data = df3.values.T\n",
      "hm = HeatMap(\n",
      "    hm_data, palette=palette, xlabel='Years since 1948', ylabel='Months', \n",
      "    title=\"Unemployment, array input\", height=400, width=1000)\n",
      "show(hm)"
     ],
     "language": "python",
     "metadata": {},
     "outputs": []
    },
    {
     "cell_type": "code",
     "collapsed": false,
     "input": [
      "simple_df = pd.DataFrame(\n",
      "    {'apples':[4,5,8,12,4], 'pears':[6,5,4,8,7], 'bananas':[1,2,4,8,12]}, \n",
      "    index=['2009', '2010', '2011', '2012', '2013']\n",
      ")\n",
      "hm = HeatMap(\n",
      "    simple_df, palette=palette, title=\"Fruit comsumption per year\", height=300, width=500)\n",
      "show(hm)"
     ],
     "language": "python",
     "metadata": {},
     "outputs": []
    },
    {
     "cell_type": "code",
     "collapsed": false,
     "input": [],
     "language": "python",
     "metadata": {},
     "outputs": []
    }
   ],
   "metadata": {}
  }
 ]
}