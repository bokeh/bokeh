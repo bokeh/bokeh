{
 "cells": [
  {
   "cell_type": "code",
   "execution_count": null,
   "metadata": {
    "collapsed": false
   },
   "outputs": [],
   "source": [
    "from collections import OrderedDict\n",
    "import pandas as pd\n",
    "from bokeh.charts import Line\n",
    "from bokeh.io import output_notebook, show\n",
    "output_notebook()"
   ]
  },
  {
   "cell_type": "code",
   "execution_count": null,
   "metadata": {
    "collapsed": false
   },
   "outputs": [],
   "source": [
    "# read in some stock data from the Yahoo Finance API\n",
    "AAPL = pd.read_csv(\n",
    "    \"http://ichart.yahoo.com/table.csv?s=AAPL&a=0&b=1&c=2000&d=0&e=1&f=2010\",\n",
    "    parse_dates=['Date'])\n",
    "MSFT = pd.read_csv(\n",
    "    \"http://ichart.yahoo.com/table.csv?s=MSFT&a=0&b=1&c=2000&d=0&e=1&f=2010\",\n",
    "    parse_dates=['Date'])\n",
    "IBM = pd.read_csv(\n",
    "    \"http://ichart.yahoo.com/table.csv?s=IBM&a=0&b=1&c=2000&d=0&e=1&f=2010\",\n",
    "    parse_dates=['Date'])\n",
    "\n",
    "xyvalues = OrderedDict(\n",
    "    AAPL=AAPL['Adj Close'],\n",
    "    Date=AAPL['Date'],\n",
    "    MSFT=MSFT['Adj Close'],\n",
    "    IBM=IBM['Adj Close'],\n",
    ")"
   ]
  },
  {
   "cell_type": "code",
   "execution_count": null,
   "metadata": {
    "collapsed": false
   },
   "outputs": [],
   "source": [
    "TOOLS = \"resize,pan,wheel_zoom,box_zoom,reset,previewsave\"\n",
    "\n",
    "ts = Line(\n",
    "    xyvalues, x='Date', y=['AAPL', 'MSFT', 'IBM'], legend=True,\n",
    "    title='Timeseries', ylabel='Stock Prices', tools=TOOLS, responsive=True\n",
    ")\n",
    "show(ts)"
   ]
  },
  {
   "cell_type": "code",
   "execution_count": null,
   "metadata": {
    "collapsed": false
   },
   "outputs": [],
   "source": [
    "df = pd.DataFrame(xyvalues)\n",
    "ts = Line(\n",
    "    df, x='Date', y=['AAPL', 'MSFT', 'IBM'], legend=True,\n",
    "    title='Timeseries, pandas input', ylabel='Stock Prices', tools=TOOLS, responsive=True)\n",
    "show(ts)"
   ]
  },
  {
   "cell_type": "code",
   "execution_count": null,
   "metadata": {
    "collapsed": false
   },
   "outputs": [],
   "source": [
    "from bokeh._legacy_charts import TimeSeries\n",
    "lindex = xyvalues.pop('Date')\n",
    "lxyvalues = list(xyvalues.values())\n",
    "ts = TimeSeries(\n",
    "    lxyvalues, index=lindex, title=\"timeseries, list input\", \n",
    "    ylabel='Stock Prices: 0-AAPL, 1-IBM, 2-MSFT', legend=True)\n",
    "show(ts)"
   ]
  },
  {
   "cell_type": "code",
   "execution_count": null,
   "metadata": {
    "collapsed": false
   },
   "outputs": [],
   "source": [
    "from blaze import Data\n",
    "\n",
    "b = Data(df)\n",
    "ts = TimeSeries(b, index='Date', title=\"timeseries, blaze input\", ylabel='Stock Prices', legend='bottom_right')\n",
    "show(ts)"
   ]
  },
  {
   "cell_type": "code",
   "execution_count": null,
   "metadata": {
    "collapsed": true
   },
   "outputs": [],
   "source": []
  }
 ],
 "metadata": {
  "kernelspec": {
   "display_name": "Python 3",
   "language": "python",
   "name": "python3"
  },
  "language_info": {
   "codemirror_mode": {
    "name": "ipython",
    "version": 3
   },
   "file_extension": ".py",
   "mimetype": "text/x-python",
   "name": "python",
   "nbconvert_exporter": "python",
   "pygments_lexer": "ipython3",
   "version": "3.4.3"
  }
 },
 "nbformat": 4,
 "nbformat_minor": 0
}
