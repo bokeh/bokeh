{
 "metadata": {
  "name": "",
  "signature": "sha256:ef81cd0675454080fba8cb5691f2f334c51b374ab5c8c359033d953b3220b47f"
 },
 "nbformat": 3,
 "nbformat_minor": 0,
 "worksheets": [
  {
   "cells": [
    {
     "cell_type": "code",
     "collapsed": false,
     "input": [
      "from collections import OrderedDict\n",
      "\n",
      "import pandas as pd\n",
      "import numpy as np\n",
      "\n",
      "from bokeh.charts import Dot, output_notebook, show"
     ],
     "language": "python",
     "metadata": {},
     "outputs": []
    },
    {
     "cell_type": "code",
     "collapsed": false,
     "input": [
      "output_notebook()"
     ],
     "language": "python",
     "metadata": {},
     "outputs": []
    },
    {
     "cell_type": "code",
     "collapsed": false,
     "input": [
      "# create some example data\n",
      "xyvalues = OrderedDict(\n",
      "    python=[2, 3, 7, 5, 26],\n",
      "    pypy=[12, 33, 47, 15, 126],\n",
      "    jython=[22, 43, 10, 25, 26],\n",
      ")"
     ],
     "language": "python",
     "metadata": {},
     "outputs": []
    },
    {
     "cell_type": "code",
     "collapsed": false,
     "input": [
      "dots = Dot(\n",
      "    xyvalues, cat=['lists','loops','dicts', 'gen exp', 'exceptions'],\n",
      "    title=\"Dots Example, dict input\", ylabel='Performance', legend='top_left')\n",
      "show(dots)"
     ],
     "language": "python",
     "metadata": {},
     "outputs": []
    },
    {
     "cell_type": "code",
     "collapsed": false,
     "input": [
      "df = pd.DataFrame(xyvalues)\n",
      "dots = Dot(\n",
      "    df, cat=['lists','loops','dicts', 'gen exp', 'exceptions'],\n",
      "    title=\"Dots Example, pandas input\", ylabel='Performance', legend='top_left')\n",
      "show(dots)"
     ],
     "language": "python",
     "metadata": {},
     "outputs": []
    },
    {
     "cell_type": "code",
     "collapsed": false,
     "input": [
      "lxyvalues = list(xyvalues.values())\n",
      "dots = Dot(\n",
      "    lxyvalues, cat=['lists','loops','dicts', 'gen exp', 'exceptions'],\n",
      "    title=\"Dots Example, list input\", ylabel='Performance', legend='top_left')\n",
      "show(dots)"
     ],
     "language": "python",
     "metadata": {},
     "outputs": []
    },
    {
     "cell_type": "code",
     "collapsed": false,
     "input": [],
     "language": "python",
     "metadata": {},
     "outputs": []
    }
   ],
   "metadata": {}
  }
 ]
}