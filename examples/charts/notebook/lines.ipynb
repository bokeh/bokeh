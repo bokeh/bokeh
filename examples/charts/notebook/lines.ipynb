{
 "metadata": {
  "name": "",
  "signature": "sha256:48a61e773ee772d547659d4ca6517495e829046412c1c12e7fe49a35eb46cf5c"
 },
 "nbformat": 3,
 "nbformat_minor": 0,
 "worksheets": [
  {
   "cells": [
    {
     "cell_type": "code",
     "collapsed": false,
     "input": [
      "from collections import OrderedDict\n",
      "\n",
      "import numpy as np\n",
      "import pandas as pd\n",
      "\n",
      "from bokeh.charts import Line, output_notebook, show"
     ],
     "language": "python",
     "metadata": {},
     "outputs": []
    },
    {
     "cell_type": "code",
     "collapsed": false,
     "input": [
      "output_notebook()"
     ],
     "language": "python",
     "metadata": {},
     "outputs": []
    },
    {
     "cell_type": "code",
     "collapsed": false,
     "input": [
      "# create some example data\n",
      "xyvalues = OrderedDict(\n",
      "    python=[2, 3, 7, 5, 26, 221, 44, 233, 254, 265, 266, 267, 120, 111],\n",
      "    pypy=[12, 33, 47, 15, 126, 121, 144, 233, 254, 225, 226, 267, 110, 130],\n",
      "    jython=[22, 43, 10, 25, 26, 101, 114, 203, 194, 215, 201, 227, 139, 160],\n",
      ")"
     ],
     "language": "python",
     "metadata": {},
     "outputs": []
    },
    {
     "cell_type": "code",
     "collapsed": false,
     "input": [
      "line = Line(\n",
      "    xyvalues, title=\"Line Chart, dict input\",\n",
      "    xlabel='time', ylabel='memory', legend=\"top_left\")\n",
      "show(line)"
     ],
     "language": "python",
     "metadata": {},
     "outputs": []
    },
    {
     "cell_type": "code",
     "collapsed": false,
     "input": [
      "# read in some stock data from the Yahoo Finance API\n",
      "AAPL = pd.read_csv(\n",
      "    \"http://ichart.yahoo.com/table.csv?s=AAPL&a=0&b=1&c=2000&d=0&e=1&f=2010\",\n",
      "    parse_dates=['Date'])\n",
      "MSFT = pd.read_csv(\n",
      "    \"http://ichart.yahoo.com/table.csv?s=MSFT&a=0&b=1&c=2000&d=0&e=1&f=2010\",\n",
      "    parse_dates=['Date'])\n",
      "IBM = pd.read_csv(\n",
      "    \"http://ichart.yahoo.com/table.csv?s=IBM&a=0&b=1&c=2000&d=0&e=1&f=2010\",\n",
      "    parse_dates=['Date'])\n",
      "\n",
      "sxyvalues = OrderedDict(\n",
      "    AAPL=AAPL['Adj Close'],\n",
      "    MSFT=MSFT['Adj Close'],\n",
      "    IBM=IBM['Adj Close'],\n",
      ")"
     ],
     "language": "python",
     "metadata": {},
     "outputs": []
    },
    {
     "cell_type": "code",
     "collapsed": true,
     "input": [
      "line = Line(\n",
      "    sxyvalues, title=\"Stock prices, dict input\",\n",
      "    ylabel='Price', legend=\"top_left\")\n",
      "show(line)"
     ],
     "language": "python",
     "metadata": {},
     "outputs": []
    },
    {
     "cell_type": "code",
     "collapsed": false,
     "input": [
      "df = pd.DataFrame(sxyvalues)\n",
      "line = Line(\n",
      "    df, title=\"Stock prices, pandas input\", \n",
      "    ylabel='Price', legend=\"top_left\")\n",
      "show(line)"
     ],
     "language": "python",
     "metadata": {},
     "outputs": []
    },
    {
     "cell_type": "code",
     "collapsed": false,
     "input": [
      "line = Line(\n",
      "    list(sxyvalues.values()), title=\"Stock Prices, list input\",\n",
      "    ylabel='Price', legend=\"top_left\")\n",
      "show(line)"
     ],
     "language": "python",
     "metadata": {},
     "outputs": []
    },
    {
     "cell_type": "code",
     "collapsed": false,
     "input": [],
     "language": "python",
     "metadata": {},
     "outputs": []
    }
   ],
   "metadata": {}
  }
 ]
}