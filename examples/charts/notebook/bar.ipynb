{
 "metadata": {
  "name": "",
  "signature": "sha256:d2888320ad1042669804c2a9a45dd2f882ba8e470ac0e92910f98cd423a6b08c"
 },
 "nbformat": 3,
 "nbformat_minor": 0,
 "worksheets": [
  {
   "cells": [
    {
     "cell_type": "code",
     "collapsed": false,
     "input": [
      "from collections import OrderedDict\n",
      "\n",
      "import numpy as np\n",
      "import pandas as pd\n",
      "\n",
      "from bokeh.charts import Bar, VBox, output_notebook, show\n",
      "from bokeh.sampledata.olympics2014 import data as original_data"
     ],
     "language": "python",
     "metadata": {},
     "outputs": []
    },
    {
     "cell_type": "code",
     "collapsed": false,
     "input": [
      "data = {d['abbr']: d['medals'] for d in original_data['data'] if d['medals']['total'] > 0}\n",
      "\n",
      "countries = sorted(data.keys(), key=lambda x: data[x]['total'], reverse=True)\n",
      "\n",
      "gold = np.array([data[abbr]['gold'] for abbr in countries], dtype=np.float)\n",
      "silver = np.array([data[abbr]['silver'] for abbr in countries], dtype=np.float)\n",
      "bronze = np.array([data[abbr]['bronze'] for abbr in countries], dtype=np.float)"
     ],
     "language": "python",
     "metadata": {},
     "outputs": []
    },
    {
     "cell_type": "code",
     "collapsed": false,
     "input": [
      "output_notebook()"
     ],
     "language": "python",
     "metadata": {},
     "outputs": []
    },
    {
     "cell_type": "code",
     "collapsed": false,
     "input": [
      "medals = OrderedDict(bronze=bronze, silver=silver, gold=gold)"
     ],
     "language": "python",
     "metadata": {},
     "outputs": []
    },
    {
     "cell_type": "code",
     "collapsed": false,
     "input": [
      "bar = Bar(\n",
      "    medals, countries, title=\"grouped, dict input\", \n",
      "    xlabel=\"countries\", ylabel=\"medals\", legend=True, width=600, height=400)\n",
      "show(bar)"
     ],
     "language": "python",
     "metadata": {},
     "outputs": []
    },
    {
     "cell_type": "code",
     "collapsed": false,
     "input": [
      "bar = Bar(\n",
      "    medals, countries, title=\"stacked, dict input\", \n",
      "    xlabel=\"countries\", ylabel=\"medals\", legend=True, width=600, height=400, stacked=True)\n",
      "show(bar)"
     ],
     "language": "python",
     "metadata": {},
     "outputs": []
    },
    {
     "cell_type": "code",
     "collapsed": false,
     "input": [
      "df = pd.DataFrame(medals, index=countries)\n",
      "\n",
      "bar1 = Bar(\n",
      "    df, title=\"stacked, pandas input\", xlabel=\"countries\", ylabel=\"medals\", \n",
      "    legend=True, width=600, height=400, stacked=True)\n",
      "\n",
      "bar2 = bar = Bar(\n",
      "    df, title=\"grouped, pandas input\", xlabel=\"countries\", ylabel=\"medals\", \n",
      "    legend=True, width=600, height=400, stacked=False)\n",
      "\n",
      "show(VBox(bar1, bar2))"
     ],
     "language": "python",
     "metadata": {},
     "outputs": []
    },
    {
     "cell_type": "code",
     "collapsed": false,
     "input": [
      "medals = np.array([bronze, silver, gold])\n",
      "bar = Bar(\n",
      "    medals, title=\"grouped, array input\", xlabel=\"countries\", ylabel=\"medals\", \n",
      "    legend=True, width=600, height=400)\n",
      "show(bar)"
     ],
     "language": "python",
     "metadata": {},
     "outputs": []
    },
    {
     "cell_type": "code",
     "collapsed": false,
     "input": [],
     "language": "python",
     "metadata": {},
     "outputs": []
    }
   ],
   "metadata": {}
  }
 ]
}