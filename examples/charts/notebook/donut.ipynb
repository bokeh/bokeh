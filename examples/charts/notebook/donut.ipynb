{
 "metadata": {
  "name": "",
  "signature": "sha256:639230a6724cc472ad9bd9c070b7369298f1e0954d0f2e9eadbb7863f4ea8aff"
 },
 "nbformat": 3,
 "nbformat_minor": 0,
 "worksheets": [
  {
   "cells": [
    {
     "cell_type": "code",
     "collapsed": false,
     "input": [
      "import pandas as pd\n",
      "from collections import OrderedDict\n",
      "\n",
      "from bokeh.charts import Donut, output_notebook, show\n",
      "from bokeh.sampledata.olympics2014 import data"
     ],
     "language": "python",
     "metadata": {},
     "outputs": []
    },
    {
     "cell_type": "code",
     "collapsed": false,
     "input": [
      "output_notebook()"
     ],
     "language": "python",
     "metadata": {},
     "outputs": []
    },
    {
     "cell_type": "code",
     "collapsed": false,
     "input": [
      "# throw the data into a pandas df\n",
      "df = pd.io.json.json_normalize(data['data'])\n",
      "\n",
      "# filter by countries with at least one medal and sort\n",
      "df = df[df['medals.total'] > 8]\n",
      "df = df.sort(\"medals.total\", ascending=False)\n",
      "\n",
      "# get the countries and we group the data by medal type\n",
      "countries = df.abbr.values.tolist()\n",
      "gold = df['medals.gold'].astype(float).values\n",
      "silver = df['medals.silver'].astype(float).values\n",
      "bronze = df['medals.bronze'].astype(float).values\n",
      "\n",
      "# build a dict containing the grouped data\n",
      "medals = OrderedDict(bronze=bronze, silver=silver, gold=gold)"
     ],
     "language": "python",
     "metadata": {},
     "outputs": []
    },
    {
     "cell_type": "code",
     "collapsed": false,
     "input": [
      "donut = Donut(\n",
      "    medals, countries, title='Medals Count, dict input', \n",
      "    xlabel='countries', ylabel='medals')\n",
      "show(donut)"
     ],
     "language": "python",
     "metadata": {},
     "outputs": []
    },
    {
     "cell_type": "code",
     "collapsed": false,
     "input": [
      "df = pd.DataFrame(medals)\n",
      "donut = Donut(\n",
      "    df, countries, title='Medals Count, pandas input', \n",
      "    xlabel='countries', ylabel='medals')\n",
      "show(donut)"
     ],
     "language": "python",
     "metadata": {},
     "outputs": []
    },
    {
     "cell_type": "code",
     "collapsed": false,
     "input": [],
     "language": "python",
     "metadata": {},
     "outputs": []
    }
   ],
   "metadata": {}
  }
 ]
}