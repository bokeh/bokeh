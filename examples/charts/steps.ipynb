{
 "metadata": {
  "name": "",
  "signature": "sha256:31e6acce274c442c58d67709a240f3cd58f1a92c7c35b0516089dc2fcd77de43"
 },
 "nbformat": 3,
 "nbformat_minor": 0,
 "worksheets": [
  {
   "cells": [
    {
     "cell_type": "code",
     "collapsed": false,
     "input": [
      "from collections import OrderedDict\n",
      "\n",
      "import numpy as np\n",
      "\n",
      "from bokeh.charts import Step\n",
      "\n",
      "# create some example data\n",
      "xyvalues = OrderedDict(\n",
      "    python=[2, 3, 7, 5, 26, 81, 44, 93, 94, 105, 66, 67, 90, 83],\n",
      "    pypy=[12, 20, 47, 15, 126, 121, 144, 333, 354, 225, 276, 287, 270, 230],\n",
      "    jython=[22, 43, 70, 75, 76, 101, 114, 123, 194, 215, 201, 227, 139, 160],\n",
      ")\n",
      "\n",
      "# create an area chart\n",
      "step = Step(\n",
      "    xyvalues, title=\"Area Chart\",\n",
      "    ylabel='Performance', facet=False, notebook=True,\n",
      ")\n",
      "step.legend(\"top_left\").show()\n"
     ],
     "language": "python",
     "metadata": {},
     "outputs": []
    },
    {
     "cell_type": "code",
     "collapsed": false,
     "input": [
      "step.facet()\n",
      "step.legend(\"top_left\").show()"
     ],
     "language": "python",
     "metadata": {},
     "outputs": []
    },
    {
     "cell_type": "code",
     "collapsed": true,
     "input": [
      "import pandas as pd\n",
      "\n",
      "# Here is some code to read in some stock data from the Yahoo Finance API\n",
      "AAPL = pd.read_csv(\n",
      "    \"http://ichart.yahoo.com/table.csv?s=AAPL&a=0&b=1&c=2000&d=0&e=1&f=2010\",\n",
      "    parse_dates=['Date'])\n",
      "MSFT = pd.read_csv(\n",
      "    \"http://ichart.yahoo.com/table.csv?s=MSFT&a=0&b=1&c=2000&d=0&e=1&f=2010\",\n",
      "    parse_dates=['Date'])\n",
      "IBM = pd.read_csv(\n",
      "    \"http://ichart.yahoo.com/table.csv?s=IBM&a=0&b=1&c=2000&d=0&e=1&f=2010\",\n",
      "    parse_dates=['Date'])\n",
      "\n",
      "sxyvalues = OrderedDict(\n",
      "    AAPL=AAPL['Adj Close'],\n",
      "    MSFT=MSFT['Adj Close'],\n",
      "    IBM=IBM['Adj Close'],\n",
      ")\n",
      "\n",
      "# create an area chart\n",
      "step = Step(\n",
      "    sxyvalues, title=\"Medals\",\n",
      "    ylabel='Performance', facet=False, notebook=True,\n",
      ")\n",
      "step.legend(\"top_left\").show()"
     ],
     "language": "python",
     "metadata": {},
     "outputs": []
    },
    {
     "cell_type": "code",
     "collapsed": false,
     "input": [
      "step.facet()\n",
      "step.show()"
     ],
     "language": "python",
     "metadata": {},
     "outputs": []
    },
    {
     "cell_type": "code",
     "collapsed": false,
     "input": [
      "# create an area chart\n",
      "df = pd.DataFrame(xyvalues)\n",
      "step = Step(\n",
      "    df, title=\"Area Chart\",\n",
      "    ylabel='Performance', facet=False, notebook=True,\n",
      ")\n",
      "step.legend(\"top_left\").show()"
     ],
     "language": "python",
     "metadata": {},
     "outputs": []
    },
    {
     "cell_type": "code",
     "collapsed": false,
     "input": [
      "step = Step(\n",
      "    list(xyvalues.values()), title=\"Area Chart\",\n",
      "    ylabel='Performance', facet=False, notebook=True,\n",
      ")\n",
      "step.legend(\"top_left\").show()"
     ],
     "language": "python",
     "metadata": {},
     "outputs": []
    },
    {
     "cell_type": "code",
     "collapsed": false,
     "input": [],
     "language": "python",
     "metadata": {},
     "outputs": []
    }
   ],
   "metadata": {}
  }
 ]
}