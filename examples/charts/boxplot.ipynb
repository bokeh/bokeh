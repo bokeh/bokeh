{
 "metadata": {
  "name": "",
  "signature": "sha256:e4bf7c10be32abd7653edb8a77a031222f42d77ae75fc0de5d0bee0b9fb16408"
 },
 "nbformat": 3,
 "nbformat_minor": 0,
 "worksheets": [
  {
   "cells": [
    {
     "cell_type": "code",
     "collapsed": false,
     "input": [
      "from collections import OrderedDict\n",
      "\n",
      "import numpy as np\n",
      "\n",
      "from bokeh.charts import BoxPlot\n",
      "from bokeh.sampledata.olympics2014 import data\n",
      "\n",
      "data = {d['abbr']: d['medals'] for d in data['data'] if d['medals']['total'] > 0}\n",
      "\n",
      "countries = sorted(data.keys(), key=lambda x: data[x]['total'], reverse=True)\n",
      "\n",
      "gold = np.array([data[abbr]['gold'] for abbr in countries], dtype=np.float)\n",
      "silver = np.array([data[abbr]['silver'] for abbr in countries], dtype=np.float)\n",
      "bronze = np.array([data[abbr]['bronze'] for abbr in countries], dtype=np.float)\n",
      "\n",
      "medals = OrderedDict(bronze=bronze, silver=silver, gold=gold, fake=gold)\n",
      "\n",
      "boxplot = BoxPlot(medals, title=\"boxplot, dict_input\", xlabel=\"medal type\", ylabel=\"medal count\", \n",
      "             width=800, height=600, notebook=True)\n",
      "boxplot.marker(\"circle\").outliers(True).legend(True).show()"
     ],
     "language": "python",
     "metadata": {},
     "outputs": []
    },
    {
     "cell_type": "code",
     "collapsed": false,
     "input": [
      "boxplot = BoxPlot(medals, title=\"boxplot, dict_input\", xlabel=\"medal type\", ylabel=\"medal count\", \n",
      "             width=800, height=600, notebook=True)\n",
      "boxplot.marker(\"circle\").outliers(False).legend(True).show()"
     ],
     "language": "python",
     "metadata": {},
     "outputs": []
    },
    {
     "cell_type": "code",
     "collapsed": false,
     "input": [],
     "language": "python",
     "metadata": {},
     "outputs": []
    }
   ],
   "metadata": {}
  }
 ]
}