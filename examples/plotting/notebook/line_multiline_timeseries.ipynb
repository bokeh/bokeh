{
 "cells": [
  {
   "cell_type": "markdown",
   "metadata": {},
   "source": [
    "# Plotting cumulative cases from the 2014-2015 Ebola Outbreak\n",
    "\n",
    "In this example we explore an open Ebola dataset by Caitlin Rivers: https://github.com/cmrivers/ebola\n",
    "\n",
    "We want to show how the outbreak was getting worse in Winter 2014 by plotting the cumulative cases of all the countries.\n",
    "\n",
    "This tutorial covers the `line` and `multi_line` functions in the `plotting` module, and the `TimeSeries` function from the `charts` module"
   ]
  },
  {
   "cell_type": "code",
   "execution_count": null,
   "metadata": {
    "collapsed": false
   },
   "outputs": [],
   "source": [
    "import pandas as pd"
   ]
  },
  {
   "cell_type": "markdown",
   "metadata": {},
   "source": [
    "Since we are rendering plots in the notebook, we need to first set the output to be notebook"
   ]
  },
  {
   "cell_type": "code",
   "execution_count": null,
   "metadata": {
    "collapsed": false
   },
   "outputs": [],
   "source": [
    "from bokeh.plotting import output_notebook\n",
    "output_notebook()"
   ]
  },
  {
   "cell_type": "code",
   "execution_count": null,
   "metadata": {
    "collapsed": true
   },
   "outputs": [],
   "source": [
    "df = pd.read_csv('https://raw.githubusercontent.com/cmrivers/ebola/master/country_timeseries.csv')"
   ]
  },
  {
   "cell_type": "code",
   "execution_count": null,
   "metadata": {
    "collapsed": false
   },
   "outputs": [],
   "source": [
    "df.head()"
   ]
  },
  {
   "cell_type": "code",
   "execution_count": null,
   "metadata": {
    "collapsed": false
   },
   "outputs": [],
   "source": [
    "# We need a datetime object and not a string representation of the date\n",
    "df['datetime'] = pd.to_datetime(df['Date'])"
   ]
  },
  {
   "cell_type": "markdown",
   "metadata": {},
   "source": [
    "Bokeh has 3 levels of plotting.  The lowest layer of `glyphs`, a `plotting` layer, and a high level `charts`.\n",
    "We are using the figure object, and plotting a line in it.\n",
    "\n",
    "The line funtion takes an x and y series or array of values."
   ]
  },
  {
   "cell_type": "code",
   "execution_count": null,
   "metadata": {
    "collapsed": false
   },
   "outputs": [],
   "source": [
    "from bokeh.plotting import figure, show\n",
    "\n",
    "p = figure()\n",
    "p.line(x=df['datetime'], y=df['Cases_Guinea'])\n",
    "show(p)"
   ]
  },
  {
   "cell_type": "markdown",
   "metadata": {},
   "source": [
    "In order to tell Bokeh to read our dates as dates and not a number, we pass the `x_axis_type` value into `figure`.\n",
    "We can also pass in values into `line` for `color` and `line_width`"
   ]
  },
  {
   "cell_type": "code",
   "execution_count": null,
   "metadata": {
    "collapsed": false
   },
   "outputs": [],
   "source": [
    "p = figure(x_axis_type = 'datetime')\n",
    "p.line(x=df['datetime'], y=df['Cases_Guinea'], color=\"red\", line_width=2)\n",
    "show(p)"
   ]
  },
  {
   "cell_type": "markdown",
   "metadata": {},
   "source": [
    "Finally, we can add a legend by passing in a string value of the legend we want."
   ]
  },
  {
   "cell_type": "code",
   "execution_count": null,
   "metadata": {
    "collapsed": false
   },
   "outputs": [],
   "source": [
    "p = figure(x_axis_type = 'datetime')\n",
    "p.line(df['datetime'], df['Cases_Guinea'], color=\"red\",line_width=2, legend='Cases_Guinea')\n",
    "show(p)"
   ]
  },
  {
   "cell_type": "markdown",
   "metadata": {},
   "source": [
    "# Plot the rest of the data\n",
    "\n",
    "We showed how to plot a single line, but what about the other countries?\n",
    "One way would be to add a new `line` for each line we want to plot."
   ]
  },
  {
   "cell_type": "code",
   "execution_count": null,
   "metadata": {
    "collapsed": false
   },
   "outputs": [],
   "source": [
    "p = figure(x_axis_type = 'datetime')\n",
    "p.line(df['datetime'], df['Cases_Guinea'], color=\"#1f77b4\",line_width=2, legend='Cases_Guinea')\n",
    "p.line(df['datetime'], df['Cases_Liberia'], color=\"#ff7f0e\",line_width=2, legend='Cases_Liberia')\n",
    "p.line(df['datetime'], df['Cases_Mali'], color=\"#2ca02c\",line_width=2, legend='Cases_Mali')\n",
    "p.line(df['datetime'], df['Cases_Nigeria'], color=\"#d62728\",line_width=2, legend='Cases_Nigeria')\n",
    "p.line(df['datetime'], df['Cases_Senegal'], color=\"#9467bd\",line_width=2, legend='Cases_Senegal')\n",
    "p.line(df['datetime'], df['Cases_SierraLeone'], color=\"#8c564b\",line_width=2, legend='Cases_SierraLeone')\n",
    "p.line(df['datetime'], df['Cases_Spain'], color=\"#e377c2\",line_width=2, legend='Cases_Spain')\n",
    "p.line(df['datetime'], df['Cases_UnitedStates'], color=\"#7f7f7f\",line_width=2, legend='Cases_UnitedStates')\n",
    "show(p)"
   ]
  },
  {
   "cell_type": "markdown",
   "metadata": {},
   "source": [
    "You can see that doing it this way would be repetitive.\n",
    "If we want to plot many lines at once, we can use the `multi_line` function insead of regular `line`.\n",
    "\n",
    "The way `multi_line` works is that it takes a list of values for the various axes."
   ]
  },
  {
   "cell_type": "code",
   "execution_count": null,
   "metadata": {
    "collapsed": false
   },
   "outputs": [],
   "source": [
    "# since we want a list of dates, and all the dates are the same, we can use some\n",
    "# python to autogenerate a list of dates for us\n",
    "time = [df['datetime']] * 8\n",
    "\n",
    "# We create a list of column names we will use to subset the dataframe from\n",
    "type_country_name = ['Cases_Guinea', 'Cases_Liberia', 'Cases_Mali', 'Cases_Nigeria',\n",
    "                     'Cases_Senegal', 'Cases_SierraLeone', 'Cases_Spain', 'Cases_UnitedStates']\n",
    "\n",
    "# Here we are generating the list of data we are subsetting from our dataframe\n",
    "case_country_values = [df[x] for x in type_country_name]\n",
    "\n",
    "# and a list of colors for each line\n",
    "colors = ['#1f77b4', '#ff7f0e', '#2ca02c', '#d62728',\n",
    "          '#9467bd', '#8c564b', '#e377c2', '#7f7f7f']"
   ]
  },
  {
   "cell_type": "markdown",
   "metadata": {},
   "source": [
    "The syntax for `multi_line` is similar to `line`, but now the axes take a list of values.\n",
    "As of Bokeh 0.9.1 you can't pass in a list of values into `legend`"
   ]
  },
  {
   "cell_type": "code",
   "execution_count": null,
   "metadata": {
    "collapsed": false
   },
   "outputs": [],
   "source": [
    "p = figure(x_axis_type = 'datetime')\n",
    "p.multi_line(xs=time, ys=case_country_values, color=colors)\n",
    "show(p)"
   ]
  },
  {
   "cell_type": "code",
   "execution_count": null,
   "metadata": {
    "collapsed": true
   },
   "outputs": [],
   "source": [
    "# Using the higher level charts module"
   ]
  },
  {
   "cell_type": "code",
   "execution_count": null,
   "metadata": {
    "collapsed": false
   },
   "outputs": [],
   "source": [
    "# directly read in the Date column as datetime\n",
    "df = pd.read_csv('https://raw.githubusercontent.com/cmrivers/ebola/master/country_timeseries.csv',\n",
    "                 parse_dates=['Date'])"
   ]
  },
  {
   "cell_type": "code",
   "execution_count": null,
   "metadata": {
    "collapsed": true
   },
   "outputs": [],
   "source": [
    "# drop the unnecessary column\n",
    "df.drop('Day', axis=1, inplace=True)"
   ]
  },
  {
   "cell_type": "code",
   "execution_count": null,
   "metadata": {
    "collapsed": false
   },
   "outputs": [],
   "source": [
    "from bokeh.charts import Line, TimeSeries\n",
    "from bokeh.io import show"
   ]
  },
  {
   "cell_type": "code",
   "execution_count": null,
   "metadata": {
    "collapsed": false
   },
   "outputs": [],
   "source": [
    "ts = TimeSeries(df, index='Date', legend=True)\n",
    "show(ts)"
   ]
  },
  {
   "cell_type": "markdown",
   "metadata": {},
   "source": [
    "The above plot isn't that useful since it is plotting the cases and deaths on the same plot and this causes a lot of clutter."
   ]
  },
  {
   "cell_type": "code",
   "execution_count": null,
   "metadata": {
    "collapsed": true
   },
   "outputs": [],
   "source": [
    "# Subset the data to only have the \"Date\" column and all other columns that begin with \"Cases\"\n",
    "df2 = df.filter(regex=\"Date|^Cases\")"
   ]
  },
  {
   "cell_type": "code",
   "execution_count": null,
   "metadata": {
    "collapsed": false
   },
   "outputs": [],
   "source": [
    "# replot using only the cases data\n",
    "ts = TimeSeries(df2, index='Date', legend=True)\n",
    "show(ts)"
   ]
  },
  {
   "cell_type": "markdown",
   "metadata": {},
   "source": [
    "Finally, we can clean up the plot by adding labels to the axes"
   ]
  },
  {
   "cell_type": "code",
   "execution_count": null,
   "metadata": {
    "collapsed": false
   },
   "outputs": [],
   "source": [
    "ts = TimeSeries(df2, index='Date', legend=True, title='Ebola Cases Chart', ylabel='Count')\n",
    "show(ts)"
   ]
  },
  {
   "cell_type": "code",
   "execution_count": null,
   "metadata": {
    "collapsed": true
   },
   "outputs": [],
   "source": []
  }
 ],
 "metadata": {
  "kernelspec": {
   "display_name": "Python 3",
   "language": "python",
   "name": "python3"
  },
  "language_info": {
   "codemirror_mode": {
    "name": "ipython",
    "version": 3
   },
   "file_extension": ".py",
   "mimetype": "text/x-python",
   "name": "python",
   "nbconvert_exporter": "python",
   "pygments_lexer": "ipython3",
   "version": "3.4.3"
  }
 },
 "nbformat": 4,
 "nbformat_minor": 0
}
