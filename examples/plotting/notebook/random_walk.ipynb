{
 "cells": [
  {
   "cell_type": "raw",
   "metadata": {},
   "source": [
    "This IPython Notebook contains a random walk example using the Bokeh server\n",
    "\n",
    "To clear all previously rendered cell outputs, select from the menu:\n",
    "\n",
    "    Cell -> All Output -> Clear"
   ]
  },
  {
   "cell_type": "code",
   "execution_count": null,
   "metadata": {
    "collapsed": false
   },
   "outputs": [],
   "source": [
    "import collections\n",
    "import datetime\n",
    "import time"
   ]
  },
  {
   "cell_type": "code",
   "execution_count": null,
   "metadata": {
    "collapsed": false
   },
   "outputs": [],
   "source": [
    "import numpy as np"
   ]
  },
  {
   "cell_type": "code",
   "execution_count": null,
   "metadata": {
    "collapsed": false
   },
   "outputs": [],
   "source": [
    "from bokeh.plotting import figure, show, output_notebook, output_server, curdoc\n",
    "from bokeh.client import push_session"
   ]
  },
  {
   "cell_type": "markdown",
   "metadata": {},
   "source": [
    "*To run these examples you must execute the command `bokeh serve --allow-websocket-origin=localhost:8888` in the top-level Bokeh source directory first.*"
   ]
  },
  {
   "cell_type": "code",
   "execution_count": null,
   "metadata": {
    "collapsed": false
   },
   "outputs": [],
   "source": [
    "# open a session to keep our local document in sync with server\n",
    "session = push_session(curdoc(), session_id='default')"
   ]
  },
  {
   "cell_type": "code",
   "execution_count": null,
   "metadata": {
    "collapsed": false
   },
   "outputs": [],
   "source": [
    "# first call output_server so the notebook cells are loaded from the configured server\n",
    "output_server()\n",
    "\n",
    "# then call output_notebook to generate output in Jupyter notebook cells when show is called\n",
    "output_notebook()"
   ]
  },
  {
   "cell_type": "code",
   "execution_count": null,
   "metadata": {
    "collapsed": false
   },
   "outputs": [],
   "source": [
    "TS_MULT_us = 1e6\n",
    "UNIX_EPOCH = datetime.datetime(1970, 1, 1, 0, 0) #offset-naive datetime\n",
    "\n",
    "def int2dt(ts, ts_mult=TS_MULT_us):\n",
    "    \"\"\"Convert timestamp (integer) to datetime\"\"\"\n",
    "    return(datetime.datetime.utcfromtimestamp(float(ts)/ts_mult))\n",
    "        \n",
    "def td2int(td, ts_mult=TS_MULT_us):\n",
    "    \"\"\"Convert timedelta to integer\"\"\"\n",
    "    return(int(td.total_seconds()*ts_mult))\n",
    "        \n",
    "def dt2int(dt, ts_mult=TS_MULT_us):\n",
    "    \"\"\"Convert datetime to integer\"\"\"\n",
    "    delta = dt - UNIX_EPOCH\n",
    "    return(int(delta.total_seconds()*ts_mult))\n",
    "        \n",
    "def int_from_last_sample(dt, td):\n",
    "    return(dt2int(dt) - dt2int(dt) % td2int(td))"
   ]
  },
  {
   "cell_type": "code",
   "execution_count": null,
   "metadata": {
    "collapsed": false
   },
   "outputs": [],
   "source": [
    "TS_MULT = 1e3\n",
    "td_delay = datetime.timedelta(seconds=0.1)\n",
    "delay_s = td_delay.total_seconds()\n",
    "delay_int = td2int(td_delay, TS_MULT)\n",
    "\n",
    "value = 1000 # initial value\n",
    "N = 100 # number of elements into circular buffer\n",
    "\n",
    "buff = collections.deque([value]*N, maxlen=N)"
   ]
  },
  {
   "cell_type": "code",
   "execution_count": null,
   "metadata": {
    "collapsed": false
   },
   "outputs": [],
   "source": [
    "t_now = datetime.datetime.utcnow()\n",
    "ts_now = dt2int(t_now, TS_MULT)\n",
    "t = collections.deque(np.arange(ts_now-N*delay_int, ts_now, delay_int), maxlen=N)"
   ]
  },
  {
   "cell_type": "code",
   "execution_count": null,
   "metadata": {
    "collapsed": false
   },
   "outputs": [],
   "source": [
    "p = figure(x_axis_type=\"datetime\")\n",
    "p.x_range.bounds = p.y_range.bounds = None\n",
    "r = p.line(t, buff, color=\"#0000FF\", name=\"line_example\")"
   ]
  },
  {
   "cell_type": "code",
   "execution_count": null,
   "metadata": {
    "collapsed": false,
    "scrolled": true
   },
   "outputs": [],
   "source": [
    "show(p)"
   ]
  },
  {
   "cell_type": "code",
   "execution_count": null,
   "metadata": {
    "collapsed": false
   },
   "outputs": [],
   "source": [
    "ds = r.data_source\n",
    "\n",
    "def update():\n",
    "    ts_now = dt2int(datetime.datetime.utcnow(), 1e3)\n",
    "    t.append(ts_now)\n",
    "\n",
    "    value = ds.data['y'][-1] + np.random.uniform(-1, 1)\n",
    "    buff.append(value)\n",
    "    \n",
    "    ds.data.update(x=list(t), y=list(buff))\n",
    "    \n",
    "curdoc().add_periodic_callback(update, delay_s*1000)\n",
    "session.loop_until_closed()"
   ]
  },
  {
   "cell_type": "code",
   "execution_count": null,
   "metadata": {
    "collapsed": true
   },
   "outputs": [],
   "source": []
  },
  {
   "cell_type": "code",
   "execution_count": null,
   "metadata": {
    "collapsed": true
   },
   "outputs": [],
   "source": []
  }
 ],
 "metadata": {
  "kernelspec": {
   "display_name": "Python 3",
   "language": "python",
   "name": "python3"
  },
  "language_info": {
   "codemirror_mode": {
    "name": "ipython",
    "version": 3
   },
   "file_extension": ".py",
   "mimetype": "text/x-python",
   "name": "python",
   "nbconvert_exporter": "python",
   "pygments_lexer": "ipython3",
   "version": "3.4.3"
  }
 },
 "nbformat": 4,
 "nbformat_minor": 0
}
