{
 "metadata": {
  "name": "",
  "signature": "sha256:6ea2de7509c06698dc37bd9c1c7bb14c1c633ef6b808384bf1cd5cdf6e5bb7d5"
 },
 "nbformat": 3,
 "nbformat_minor": 0,
 "worksheets": [
  {
   "cells": [
    {
     "cell_type": "code",
     "collapsed": false,
     "input": [
      "import time"
     ],
     "language": "python",
     "metadata": {},
     "outputs": []
    },
    {
     "cell_type": "code",
     "collapsed": false,
     "input": [
      "from numpy import cumprod, linspace, random"
     ],
     "language": "python",
     "metadata": {},
     "outputs": []
    },
    {
     "cell_type": "code",
     "collapsed": false,
     "input": [
      "from bokeh.sampledata.stocks import AAPL, FB, GOOG, IBM, MSFT\n",
      "from bokeh.plotting import *\n",
      "from bokeh.models import GridPlot"
     ],
     "language": "python",
     "metadata": {},
     "outputs": []
    },
    {
     "cell_type": "code",
     "collapsed": false,
     "input": [
      "num_points = 300\n",
      "\n",
      "now = time.time()\n",
      "dt = 24*3600 # days in seconds\n",
      "dates = linspace(now, now + num_points*dt, num_points) * 1000 # times in ms\n",
      "acme = cumprod(random.lognormal(0.0, 0.04, size=num_points))\n",
      "choam = cumprod(random.lognormal(0.0, 0.04, size=num_points))"
     ],
     "language": "python",
     "metadata": {},
     "outputs": []
    },
    {
     "cell_type": "code",
     "collapsed": false,
     "input": [
      "output_notebook()"
     ],
     "language": "python",
     "metadata": {},
     "outputs": []
    },
    {
     "cell_type": "code",
     "collapsed": false,
     "input": [
      "p1 = figure(x_axis_type = \"datetime\")\n",
      "\n",
      "p1.line(dates, acme, color='#1F78B4', legend='ACME')\n",
      "p1.line(dates, choam, color='#FB9A99', legend='CHOAM')\n",
      "\n",
      "p1.title = \"Stock Returns\"\n",
      "p1.grid.grid_line_alpha=0.3\n",
      "\n",
      "show(p1)"
     ],
     "language": "python",
     "metadata": {},
     "outputs": []
    },
    {
     "cell_type": "code",
     "collapsed": false,
     "input": [
      "p2 = figure()\n",
      "\n",
      "p2.scatter(acme, choam, color='#A6CEE3', legend='close')\n",
      "\n",
      "p2.title = \"ACME / CHOAM Correlations\"\n",
      "p2.grid.grid_line_alpha=0.3\n",
      "\n",
      "show(p2)"
     ],
     "language": "python",
     "metadata": {},
     "outputs": []
    },
    {
     "cell_type": "code",
     "collapsed": false,
     "input": [],
     "language": "python",
     "metadata": {},
     "outputs": []
    }
   ],
   "metadata": {}
  }
 ]
}