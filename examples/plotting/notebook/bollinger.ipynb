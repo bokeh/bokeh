{
 "metadata": {
  "name": ""
 },
 "nbformat": 3,
 "nbformat_minor": 0,
 "worksheets": [
  {
   "cells": [
    {
     "cell_type": "code",
     "collapsed": false,
     "input": [
      "from bokeh.plotting import *\n",
      "\n",
      "import numpy as np\n",
      "\n",
      "# Example of computing Bollinger bands with the Patch glyph.\n",
      "# Maybe this can be simplified?\n",
      "# Any other critique is well appreciated.\n",
      "\n",
      "# Declare output file\n",
      "\n",
      "output_notebook()"
     ],
     "language": "python",
     "metadata": {},
     "outputs": []
    },
    {
     "cell_type": "code",
     "collapsed": false,
     "input": [
      "# Define Bollinger Bands.\n",
      "\n",
      "upperband = np.random.random_integers(100, 150, size=100)\n",
      "\n",
      "lowerband = upperband - 100\n",
      "\n",
      "x_data = np.arange(1, 101)"
     ],
     "language": "python",
     "metadata": {},
     "outputs": []
    },
    {
     "cell_type": "code",
     "collapsed": false,
     "input": [
      "# Bollinger shading glyph:\n",
      "\n",
      "band = np.append(lowerband, upperband[::-1])  # Reverse the upper band data and append it to the lower band data.\n",
      "\n",
      "x_banddata = np.append(x_data, x_data[::-1])  # Do the same for the x data.\n",
      "                                              # Usually, it doesn't matter what gets appended to what for the x data.\n",
      "\n",
      "# TODO: Explain how Patch works, and why the data has to be manipulated in this manner.\n",
      "\n",
      "patch(x_banddata, band, color='#7570B3', fill_alpha=0.2, x_axis_type='datetime')"
     ],
     "language": "python",
     "metadata": {},
     "outputs": []
    },
    {
     "cell_type": "code",
     "collapsed": false,
     "input": [
      "# Define plot parameters.\n",
      "\n",
      "curplot().title = 'Bollinger Bands'\n",
      "curplot().height = 600\n",
      "curplot().width = 800\n",
      "\n",
      "grid().grid_line_alpha = 0.4"
     ],
     "language": "python",
     "metadata": {},
     "outputs": []
    },
    {
     "cell_type": "code",
     "collapsed": false,
     "input": [
      "# Finally, display plot.\n",
      "\n",
      "show()"
     ],
     "language": "python",
     "metadata": {},
     "outputs": []
    },
    {
     "cell_type": "code",
     "collapsed": false,
     "input": [],
     "language": "python",
     "metadata": {},
     "outputs": []
    }
   ],
   "metadata": {}
  }
 ]
}