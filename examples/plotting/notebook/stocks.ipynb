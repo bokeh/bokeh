{
 "metadata": {
  "name": "",
  "signature": "sha256:08d3c4fb30387e68bce2371ed53ddb312adcd2e6f9818e34708c707654b9bf1a"
 },
 "nbformat": 3,
 "nbformat_minor": 0,
 "worksheets": [
  {
   "cells": [
    {
     "cell_type": "code",
     "collapsed": false,
     "input": [
      "import numpy as np\n",
      "from bokeh.sampledata.stocks import AAPL, FB, GOOG, IBM, MSFT\n",
      "from bokeh.plotting import *"
     ],
     "language": "python",
     "metadata": {},
     "outputs": []
    },
    {
     "cell_type": "code",
     "collapsed": false,
     "input": [
      "output_notebook()"
     ],
     "language": "python",
     "metadata": {},
     "outputs": []
    },
    {
     "cell_type": "code",
     "collapsed": false,
     "input": [
      "p1 = figure(x_axis_type = \"datetime\")\n",
      "\n",
      "p1.line(np.array(AAPL['date'], 'M64'), AAPL['adj_close'], color='#A6CEE3', legend='AAPL')\n",
      "p1.line(np.array(FB['date'], 'M64'), FB['adj_close'], color='#1F78B4', legend='FB')\n",
      "p1.line(np.array(GOOG['date'], 'M64'), GOOG['adj_close'], color='#B2DF8A', legend='GOOG')\n",
      "p1.line(np.array(IBM['date'], 'M64'), IBM['adj_close'], color='#33A02C', legend='IBM')\n",
      "p1.line(np.array(MSFT['date'], 'M64'), MSFT['adj_close'], color='#FB9A99', legend='MSFT')\n",
      "\n",
      "p1.title = \"Stock Closing Prices\"\n",
      "p1.grid.grid_line_alpha=0.3\n",
      "\n",
      "show(p1)"
     ],
     "language": "python",
     "metadata": {},
     "outputs": []
    },
    {
     "cell_type": "code",
     "collapsed": false,
     "input": [
      "aapl = np.array(AAPL['adj_close'])\n",
      "aapl_dates = np.array(AAPL['date'], dtype=np.datetime64)\n",
      "\n",
      "window_size = 30\n",
      "window = np.ones(window_size)/float(window_size)\n",
      "aapl_avg = np.convolve(aapl, window, 'same')"
     ],
     "language": "python",
     "metadata": {},
     "outputs": []
    },
    {
     "cell_type": "code",
     "collapsed": false,
     "input": [
      "p2 = figure(x_axis_type=\"datetime\")\n",
      "\n",
      "p2.circle(aapl_dates, aapl, size=4, color='darkgrey', alpha=0.2, legend='close')\n",
      "p2.line(aapl_dates, aapl_avg, color='navy', legend='avg')\n",
      "\n",
      "p2.title = \"AAPL One-Month Average\"\n",
      "p2.grid.grid_line_alpha=0\n",
      "p2.ygrid.band_fill_color=\"olive\"\n",
      "p2.ygrid.band_fill_alpha = 0.1\n",
      "\n",
      "show(p2) "
     ],
     "language": "python",
     "metadata": {},
     "outputs": []
    },
    {
     "cell_type": "code",
     "collapsed": false,
     "input": [],
     "language": "python",
     "metadata": {},
     "outputs": []
    }
   ],
   "metadata": {}
  }
 ]
}
