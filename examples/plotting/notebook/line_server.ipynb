{
 "cells": [
  {
   "cell_type": "raw",
   "metadata": {},
   "source": [
    "This IPython Notebook contains simple examples of the line function. \n",
    "\n",
    "To clear all previously rendered cell outputs, select from the menu:\n",
    "\n",
    "    Cell -> All Output -> Clear"
   ]
  },
  {
   "cell_type": "code",
   "execution_count": 1,
   "metadata": {
    "collapsed": false
   },
   "outputs": [],
   "source": [
    "import numpy as np\n",
    "from bokeh.plotting import *"
   ]
  },
  {
   "cell_type": "markdown",
   "metadata": {},
   "source": [
    "*To run these examples you must execute the command `python bokeh-server` in the top-level Bokeh source directory first.*"
   ]
  },
  {
   "cell_type": "code",
   "execution_count": 2,
   "metadata": {
    "collapsed": false
   },
   "outputs": [
    {
     "name": "stdout",
     "output_type": "stream",
     "text": [
      "Using saved session configuration for http://localhost:5006/\n",
      "To override, pass 'load_from_config=False' to Session\n"
     ]
    }
   ],
   "source": [
    "output_notebook(url=\"http://localhost:5006/\")"
   ]
  },
  {
   "cell_type": "code",
   "execution_count": 3,
   "metadata": {
    "collapsed": false
   },
   "outputs": [],
   "source": [
    "N = 80\n",
    "x = np.linspace(0, 4*np.pi, N)\n",
    "y = np.sin(x)"
   ]
  },
  {
   "cell_type": "code",
   "execution_count": 6,
   "metadata": {
    "collapsed": false
   },
   "outputs": [
    {
     "data": {
      "text/html": [
       "<script\n",
       "    src=\"http://localhost:5006/bokeh/autoload.js/cf18e620-d534-43e1-8cc5-a71ea1634598\"\n",
       "    id=\"cf18e620-d534-43e1-8cc5-a71ea1634598\"\n",
       "    async=\"true\"\n",
       "    data-bokeh-data=\"server\"\n",
       "    data-bokeh-modelid=\"76e2c9d6-012f-433d-a4ff-41fbd70313bb\"\n",
       "    data-bokeh-root-url=\"http://localhost:5006/\"\n",
       "    data-bokeh-docid=\"98916c9f-a530-4e90-b59c-2ec9316209ec\"\n",
       "    data-bokeh-docapikey=\"2ec14605-881e-4376-b712-57f5d5a77387\"\n",
       "    data-bokeh-loglevel=\"info\"\n",
       "></script>"
      ]
     },
     "metadata": {},
     "output_type": "display_data"
    }
   ],
   "source": [
    "p = figure()\n",
    "p.line(x,y, color=\"tomato\", line_width=2)\n",
    "show(p)"
   ]
  },
  {
   "cell_type": "code",
   "execution_count": 4,
   "metadata": {
    "collapsed": false
   },
   "outputs": [],
   "source": []
  }
 ],
 "metadata": {},
 "nbformat": 4,
 "nbformat_minor": 0
}