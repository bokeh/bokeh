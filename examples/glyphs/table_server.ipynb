{
 "metadata": {
  "name": "",
  "signature": "sha256:c2915575a264ebb130bb98b70a6a07f0230b93d09b48b0277003a0a27ecff627"
 },
 "nbformat": 3,
 "nbformat_minor": 0,
 "worksheets": [
  {
   "cells": [
    {
     "cell_type": "code",
     "collapsed": false,
     "input": [
      "from __future__ import absolute_import, print_function"
     ],
     "language": "python",
     "metadata": {},
     "outputs": []
    },
    {
     "cell_type": "code",
     "collapsed": false,
     "input": [
      "from bokeh.document import Document\n",
      "from bokeh.session import Session\n",
      "\n",
      "document = Document()\n",
      "session = Session()\n",
      "session.use_doc('table_server')\n",
      "session.load_document(document)"
     ],
     "language": "python",
     "metadata": {},
     "outputs": []
    },
    {
     "cell_type": "code",
     "collapsed": false,
     "input": [
      "import pandas as pd\n",
      "from six.moves import cStringIO as StringIO\n",
      "\n",
      "antibiotics = \"\"\"\\\n",
      "bacteria,                        penicillin, streptomycin, neomycin, gram\n",
      "Mycobacterium tuberculosis,      800,        5,            2,        negative\n",
      "Salmonella schottmuelleri,       10,         0.8,          0.09,     negative\n",
      "Proteus vulgaris,                3,          0.1,          0.1,      negative\n",
      "Klebsiella pneumoniae,           850,        1.2,          1,        negative\n",
      "Brucella abortus,                1,          2,            0.02,     negative\n",
      "Pseudomonas aeruginosa,          850,        2,            0.4,      negative\n",
      "Escherichia coli,                100,        0.4,          0.1,      negative\n",
      "Salmonella (Eberthella) typhosa, 1,          0.4,          0.008,    negative\n",
      "Aerobacter aerogenes,            870,        1,            1.6,      negative\n",
      "Brucella antracis,               0.001,      0.01,         0.007,    positive\n",
      "Streptococcus fecalis,           1,          1,            0.1,      positive\n",
      "Staphylococcus aureus,           0.03,       0.03,         0.001,    positive\n",
      "Staphylococcus albus,            0.007,      0.1,          0.001,    positive\n",
      "Streptococcus hemolyticus,       0.001,      14,           10,       positive\n",
      "Streptococcus viridans,          0.005,      10,           40,       positive\n",
      "Diplococcus pneumoniae,          0.005,      11,           10,       positive\n",
      "\"\"\"\n",
      "\n",
      "data = pd.read_csv(StringIO(antibiotics), skipinitialspace=True)"
     ],
     "language": "python",
     "metadata": {},
     "outputs": []
    },
    {
     "cell_type": "code",
     "collapsed": false,
     "input": [
      "from bokeh.widgets import HandsonTable, TableColumn, MultiSelect, VBox\n",
      "from bokeh.objects import ColumnDataSource\n",
      "\n",
      "def select_columns(obj, attr, old, fields):\n",
      "    table.columns = [ column for column in columns if column.field in fields ]    \n",
      "    session.store_objects(table)\n",
      "\n",
      "fields = [\"bacteria\", \"penicillin\", \"streptomycin\", \"neomycin\", \"gram\"]\n",
      "select = MultiSelect.create(title=\"Columns:\", options=fields, value=fields)\n",
      "select.on_change('value', select_columns)\n",
      "source = ColumnDataSource(data=data)\n",
      "columns = [\n",
      "    TableColumn(field=\"bacteria\", header=\"Bacteria\"),\n",
      "    TableColumn(field=\"penicillin\", type=\"numeric\", header=\"Penicillin\", format=\"0.000\"),\n",
      "    TableColumn(field=\"streptomycin\", type=\"numeric\", header=\"Streptomycin\", format=\"0.000\"),\n",
      "    TableColumn(field=\"neomycin\", type=\"numeric\", header=\"Neomycin\", format=\"0.000\"),\n",
      "    TableColumn(field=\"gram\", type=\"dropdown\", source=[\"negative\", \"positive\"], header=\"Streptomycin\"),\n",
      "]\n",
      "table = HandsonTable(source=source, columns=columns)\n",
      "layout = VBox(children=[select, table])\n",
      "document.add(layout)"
     ],
     "language": "python",
     "metadata": {},
     "outputs": []
    },
    {
     "cell_type": "code",
     "collapsed": false,
     "input": [
      "session.store_document(document)\n",
      "session.show(layout)"
     ],
     "language": "python",
     "metadata": {},
     "outputs": []
    },
    {
     "cell_type": "code",
     "collapsed": false,
     "input": [
      "import time\n",
      "\n",
      "try:\n",
      "    while True:\n",
      "        session.load_document(document)\n",
      "        time.sleep(0.5)\n",
      "except KeyboardInterrupt:\n",
      "    pass"
     ],
     "language": "python",
     "metadata": {},
     "outputs": []
    },
    {
     "cell_type": "code",
     "collapsed": false,
     "input": [],
     "language": "python",
     "metadata": {},
     "outputs": []
    }
   ],
   "metadata": {}
  }
 ]
}