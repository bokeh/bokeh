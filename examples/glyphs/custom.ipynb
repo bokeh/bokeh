{
 "cells": [
  {
   "cell_type": "code",
   "execution_count": null,
   "metadata": {
    "collapsed": false
   },
   "outputs": [],
   "source": [
    "from bokeh.io import show, output_notebook, vplot\n",
    "output_notebook()"
   ]
  },
  {
   "cell_type": "code",
   "execution_count": null,
   "metadata": {
    "collapsed": true
   },
   "outputs": [],
   "source": [
    "from bokeh.core.properties import String\n",
    "from bokeh.models.callbacks import Callback\n",
    "from bokeh.models.glyphs import Circle\n",
    "from bokeh.models import Plot, DataRange1d, LinearAxis, ColumnDataSource, PanTool, WheelZoomTool, TapTool"
   ]
  },
  {
   "cell_type": "code",
   "execution_count": null,
   "metadata": {
    "collapsed": false
   },
   "outputs": [],
   "source": [
    "class Popup(Callback):\n",
    "     \n",
    "    __implementation__ = \"\"\"\n",
    "_ = require \"underscore\"\n",
    "Util = require \"util/util\"\n",
    "HasProperties = require \"common/has_properties\"\n",
    " \n",
    "class Popup extends HasProperties\n",
    "  type: \"Popup\"\n",
    "\n",
    "  execute: (data_source) ->\n",
    "    for i in Util.get_indices(data_source)\n",
    "      message = Util.replace_placeholders(@get(\"message\"), data_source, i)\n",
    "      window.alert(message)\n",
    "    null\n",
    "\n",
    "  defaults: ->\n",
    "    return _.extend {}, super(), {\n",
    "      message: \"\"\n",
    "    }\n",
    "\n",
    "module.exports =\n",
    "  Model: Popup\n",
    "\"\"\" \n",
    "\n",
    "    message = String(\"\", help=\"\"\"\n",
    "    Message to display in a popup window. This can be a template string,\n",
    "    which will be formatted with data from the data source.\n",
    "    \"\"\")"
   ]
  },
  {
   "cell_type": "code",
   "execution_count": null,
   "metadata": {
    "collapsed": true
   },
   "outputs": [],
   "source": [
    "source = ColumnDataSource(\n",
    "    data = dict(\n",
    "        x = [1, 2, 3, 4, 4,   5, 5],\n",
    "        y = [5, 4, 3, 2, 2.1, 1, 1.1],\n",
    "        color = [\"rgb(0, 100, 120)\", \"green\", \"blue\", \"#2c7fb8\", \"#2c7fb8\", \"rgba(120, 230, 150, 0.5)\", \"rgba(120, 230, 150, 0.5)\"]\n",
    "    )\n",
    ")\n",
    " \n",
    "xdr = DataRange1d()\n",
    "ydr = DataRange1d()\n",
    " \n",
    "plot = Plot(x_range=xdr, y_range=ydr)\n",
    " \n",
    "circle = Circle(x=\"x\", y=\"y\", radius=0.2, fill_color=\"color\", line_color=\"black\")\n",
    "circle_renderer = plot.add_glyph(source, circle)\n",
    " \n",
    "plot.add_layout(LinearAxis(), 'below')\n",
    "plot.add_layout(LinearAxis(), 'left')\n",
    " \n",
    "tap = TapTool(renderers=[circle_renderer], callback=Popup(message=\"Selected color: @color\"))\n",
    "plot.add_tools(PanTool(), WheelZoomTool(), tap)"
   ]
  },
  {
   "cell_type": "code",
   "execution_count": null,
   "metadata": {
    "collapsed": false
   },
   "outputs": [],
   "source": [
    "show(plot)"
   ]
  },
  {
   "cell_type": "code",
   "execution_count": null,
   "metadata": {
    "collapsed": true
   },
   "outputs": [],
   "source": []
  }
 ],
 "metadata": {
  "kernelspec": {
   "display_name": "Python 3",
   "language": "python",
   "name": "python3"
  },
  "language_info": {
   "codemirror_mode": {
    "name": "ipython",
    "version": 3
   },
   "file_extension": ".py",
   "mimetype": "text/x-python",
   "name": "python",
   "nbconvert_exporter": "python",
   "pygments_lexer": "ipython3",
   "version": "3.4.3"
  }
 },
 "nbformat": 4,
 "nbformat_minor": 0
}
