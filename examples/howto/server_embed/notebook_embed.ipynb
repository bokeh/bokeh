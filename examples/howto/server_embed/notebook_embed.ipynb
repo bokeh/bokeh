{
 "cells": [
  {
   "cell_type": "markdown",
   "metadata": {
    "deletable": true,
    "editable": true
   },
   "source": [
    "## Embedding a Bokeh server in a Notebook\n",
    "\n",
    "This notebook shows how a Bokeh server application can be embedded inside a Jupyter notebook. "
   ]
  },
  {
   "cell_type": "code",
   "execution_count": 1,
   "metadata": {
    "collapsed": true,
    "deletable": true,
    "editable": true
   },
   "outputs": [],
   "source": [
    "import pandas as pd\n",
    "import yaml\n",
    "\n",
    "from bokeh.layouts import column\n",
    "from bokeh.models import ColumnDataSource, Slider\n",
    "from bokeh.plotting import figure\n",
    "from bokeh.themes import Theme\n",
    "from bokeh.io import show"
   ]
  },
  {
   "cell_type": "markdown",
   "metadata": {
    "deletable": true,
    "editable": true
   },
   "source": [
    "There are various application handlers that can be used to build up Bokeh documents. For example, there is a `ScriptHandler` that uses the code from a `.py` file to produce Bokeh documents. This is the handler that is used when we run `bokeh serve app.py`. Here we are going to use the lesser-known `FunctionHandler`, that gets configured with a plain Python function to build up a document. \n",
    "\n",
    "Here is the function `modify_doc(doc)` that defines our app:"
   ]
  },
  {
   "cell_type": "code",
   "execution_count": 2,
   "metadata": {
    "collapsed": true,
    "deletable": true,
    "editable": true
   },
   "outputs": [],
   "source": [
    "def modify_doc(doc):\n",
    "    data_url = \"http://www.neracoos.org/erddap/tabledap/B01_sbe37_all.csvp?time,temperature&depth=1&temperature_qc=0&time>=now-13months\"\n",
    "    df = pd.read_csv(data_url, parse_dates=True, index_col=0)\n",
    "    df = df.rename(columns={'temperature (celsius)': 'temperature'})\n",
    "    df.index.name = 'time'\n",
    "\n",
    "    source = ColumnDataSource(data=df)\n",
    "\n",
    "    plot = figure(x_axis_type='datetime', y_range=(0, 25), y_axis_label='Temperature (Celsius)',\n",
    "                  title=\"Sea Surface Temperature at 43.18, -70.43\")\n",
    "    plot.line('time', 'temperature', source=source)\n",
    "\n",
    "    def callback(attr, old, new):\n",
    "        data = df.rolling('{0}D'.format(new)).mean()\n",
    "        source.data = ColumnDataSource(data=data).data\n",
    "\n",
    "    slider = Slider(start=1, end=30, value=1, step=1, title=\"Smoothing by N Days\")\n",
    "    slider.on_change('value', callback)\n",
    "\n",
    "    doc.add_root(column(slider, plot))\n",
    "\n",
    "    doc.theme = Theme(json=yaml.load(\"\"\"\n",
    "        attrs:\n",
    "            Figure:\n",
    "                background_fill_color: \"#DDDDDD\"\n",
    "                outline_line_color: white\n",
    "                toolbar_location: above\n",
    "                height: 500\n",
    "                width: 800\n",
    "            Grid:\n",
    "                grid_line_dash: [6, 4]\n",
    "                grid_line_color: white\n",
    "    \"\"\"))\n"
   ]
  },
  {
   "cell_type": "markdown",
   "metadata": {
    "deletable": true,
    "editable": true
   },
   "source": [
    "We take the function above and configure a `FunctionHandler` with it. Then we create an `Application` that uses handler. (It is possible, but uncommon, for Bokeh applications to have more than one handler.) The end result is that the Bokeh server will call `modify_doc` to build new documents for every new sessions that is opened."
   ]
  },
  {
   "cell_type": "code",
   "execution_count": 3,
   "metadata": {
    "collapsed": false,
    "deletable": true,
    "editable": true
   },
   "outputs": [],
   "source": [
    "from bokeh.application.handlers import FunctionHandler\n",
    "from bokeh.application import Application\n",
    "\n",
    "handler = FunctionHandler(modify_doc)\n",
    "app = Application(handler)"
   ]
  },
  {
   "cell_type": "markdown",
   "metadata": {
    "deletable": true,
    "editable": true
   },
   "source": [
    "Now we can display our application using ``show``:"
   ]
  },
  {
   "cell_type": "code",
   "execution_count": 4,
   "metadata": {
    "collapsed": false,
    "deletable": true,
    "editable": true
   },
   "outputs": [
    {
     "data": {
      "text/html": [
       "<script type='text/javascript'>\n",
       "\n",
       "var target = document.getElementById('notebook-container');\n",
       "\n",
       "var observer = new MutationObserver(function(mutations) {\n",
       "\n",
       "   for (var i = 0; i < mutations.length; i++) {\n",
       "      for (var j=0; j < mutations[i].removedNodes.length; j++) {\n",
       "        for (var k=0; k < mutations[i].removedNodes[j].childNodes.length; k++)\n",
       "          var bokeh_selector = $(mutations[i].removedNodes[j].childNodes[k]).find(\".bokeh_class\");\n",
       "          if (bokeh_selector) {\n",
       "            if (bokeh_selector.length > 0) {\n",
       "               var destroyed_id = bokeh_selector[0].id;\n",
       "                \n",
       "var cmd = \"from bokeh import io; io._destroy_server('<%= destroyed_id %>')\";\n",
       "var command = _.template(cmd)({destroyed_id:destroyed_id});\n",
       "Jupyter.notebook.kernel.execute(command);\n",
       "\n",
       "            }\n",
       "          }\n",
       "      }\n",
       "   }\n",
       "});\n",
       "observer.observe(target, { childList: true, subtree:true });</script>"
      ]
     },
     "metadata": {},
     "output_type": "display_data"
    },
    {
     "name": "stderr",
     "output_type": "stream",
     "text": [
      "INFO:bokeh.server.server:Starting Bokeh server version 0.12.5dev16-5-g62b3f8c-dirty\n",
      "DEBUG:bokeh.server.tornado:These host origins can connect to the websocket: ['localhost:8888']\n",
      "DEBUG:bokeh.server.tornado:Patterns are:\n",
      "DEBUG:bokeh.server.tornado:  [('/?',\n",
      "DEBUG:bokeh.server.tornado:    <class 'bokeh.server.views.doc_handler.DocHandler'>,\n",
      "DEBUG:bokeh.server.tornado:    {'application_context': <bokeh.server.application_context.ApplicationContext object at 0x110d39a58>,\n",
      "DEBUG:bokeh.server.tornado:     'bokeh_websocket_path': '/ws'}),\n",
      "DEBUG:bokeh.server.tornado:   ('/ws',\n",
      "DEBUG:bokeh.server.tornado:    <class 'bokeh.server.views.ws.WSHandler'>,\n",
      "DEBUG:bokeh.server.tornado:    {'application_context': <bokeh.server.application_context.ApplicationContext object at 0x110d39a58>,\n",
      "DEBUG:bokeh.server.tornado:     'bokeh_websocket_path': '/ws'}),\n",
      "DEBUG:bokeh.server.tornado:   ('/autoload.js',\n",
      "DEBUG:bokeh.server.tornado:    <class 'bokeh.server.views.autoload_js_handler.AutoloadJsHandler'>,\n",
      "DEBUG:bokeh.server.tornado:    {'application_context': <bokeh.server.application_context.ApplicationContext object at 0x110d39a58>,\n",
      "DEBUG:bokeh.server.tornado:     'bokeh_websocket_path': '/ws'}),\n",
      "DEBUG:bokeh.server.tornado:   ('/?',\n",
      "DEBUG:bokeh.server.tornado:    <class 'bokeh.server.views.root_handler.RootHandler'>,\n",
      "DEBUG:bokeh.server.tornado:    {'applications': {'/': <bokeh.server.application_context.ApplicationContext object at 0x110d39a58>},\n",
      "DEBUG:bokeh.server.tornado:     'prefix': '',\n",
      "DEBUG:bokeh.server.tornado:     'use_redirect': True}),\n",
      "DEBUG:bokeh.server.tornado:   ('/static/(.*)',\n",
      "DEBUG:bokeh.server.tornado:    <class 'bokeh.server.views.static_handler.StaticHandler'>)]\n"
     ]
    },
    {
     "data": {
      "text/html": [
       "<div class='bokeh_class' id='f96e48e69a8e4a818c18bb87a8c5874e'>\n",
       "<script\n",
       "    src=\"http://127.0.0.1:49565/autoload.js?bokeh-autoload-element=1014&bokeh-app-path=/&bokeh-absolute-url=http://127.0.0.1:49565\"\n",
       "    id=\"1014\"\n",
       "    data-bokeh-model-id=\"\"\n",
       "    data-bokeh-doc-id=\"\"\n",
       "></script></div>"
      ],
      "text/plain": [
       "<IPython.core.display.HTML object>"
      ]
     },
     "metadata": {},
     "output_type": "display_data"
    }
   ],
   "source": [
    "show(app)"
   ]
  },
  {
   "cell_type": "code",
   "execution_count": null,
   "metadata": {
    "collapsed": true
   },
   "outputs": [],
   "source": []
  }
 ],
 "metadata": {
  "anaconda-cloud": {},
  "kernelspec": {
   "display_name": "Python 3",
   "language": "python",
   "name": "python3"
  },
  "language_info": {
   "codemirror_mode": {
    "name": "ipython",
    "version": 3
   },
   "file_extension": ".py",
   "mimetype": "text/x-python",
   "name": "python",
   "nbconvert_exporter": "python",
   "pygments_lexer": "ipython3",
   "version": "3.5.3"
  }
 },
 "nbformat": 4,
 "nbformat_minor": 0
}
