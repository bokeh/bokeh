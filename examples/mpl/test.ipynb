{
 "metadata": {
  "name": ""
 },
 "nbformat": 3,
 "nbformat_minor": 0,
 "worksheets": [
  {
   "cells": [
    {
     "cell_type": "code",
     "collapsed": false,
     "input": [
      "import numpy as np\n",
      "import matplotlib.pyplot as plt\n",
      "from bokeh import pyplot\n",
      "\n",
      "x = np.linspace(-2 * np.pi, 2 * np.pi, 100)\n",
      "y = np.sin(x)\n",
      "\n",
      "plt.plot(x, y, \"r-\")\n",
      "plt.title(\"Matplotlib Figure in Bokeh\")\n",
      "\n",
      "# dashed lines work\n",
      "#plt.plot(x,y,\"r-x\", linestyle=\"-.\")\n",
      "\n",
      "pyplot.show_bokeh(plt.gcf(), notebook=True)\n",
      "#pyplot.show_bokeh(plt.gcf(), server=\"default\", notebook=True)"
     ],
     "language": "python",
     "metadata": {},
     "outputs": []
    }
   ],
   "metadata": {}
  }
 ]
}