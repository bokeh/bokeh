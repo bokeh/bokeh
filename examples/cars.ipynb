{
 "metadata": {
  "name": "cars"
 },
 "nbformat": 3,
 "nbformat_minor": 0,
 "worksheets": [
  {
   "cells": [
    {
     "cell_type": "code",
     "collapsed": false,
     "input": "from bokeh.mpl import PlotClient\np = PlotClient(username='defaultuser', serverloc=\"http://portcon:5006\",userapikey=\"nokey\")\np.use_doc('cars')\np.notebooksources()",
     "language": "python",
     "metadata": {},
     "outputs": []
    },
    {
     "cell_type": "code",
     "collapsed": false,
     "input": "p.notebook_connect()",
     "language": "python",
     "metadata": {},
     "outputs": []
    },
    {
     "cell_type": "code",
     "collapsed": false,
     "input": "import pandas\ndf = pandas.read_csv(\"../tests/auto-mpg.csv\")\nsource = p.make_source(df)",
     "language": "python",
     "metadata": {},
     "outputs": []
    },
    {
     "cell_type": "code",
     "collapsed": false,
     "input": "p.hold('off')\nplot1 = p.scatter('mpg', 'yr', data_source=source)\nplot2 = p.scatter('mpg', 'weight', data_source=source)\ngrid = p.grid([[plot1, plot2]])\ngrid",
     "language": "python",
     "metadata": {},
     "outputs": []
    },
    {
     "cell_type": "code",
     "collapsed": false,
     "input": "table = p.pandastable(source, width=600)\ntable",
     "language": "python",
     "metadata": {},
     "outputs": []
    },
    {
     "cell_type": "code",
     "collapsed": false,
     "input": "from bokeh.functional import *\ng = ggplot(df, aes(\"displ\", \"mpg\", color=\"green\")) + facet_grid(\"cyl\", \"origin\") +  geom_line()\ng.to_html(notebook=True)",
     "language": "python",
     "metadata": {},
     "outputs": []
    }
   ],
   "metadata": {}
  }
 ]
}