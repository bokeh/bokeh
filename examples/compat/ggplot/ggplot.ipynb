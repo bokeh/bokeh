{
 "metadata": {
  "name": "",
  "signature": "sha256:c0283484759c7ea12de63c1fdb171e04811c57bf82d1b6ae92a61c245230ea42"
 },
 "nbformat": 3,
 "nbformat_minor": 0,
 "worksheets": [
  {
   "cells": [
    {
     "cell_type": "heading",
     "level": 1,
     "metadata": {},
     "source": [
      "Some examples of ggplot-based plots rendered by Bokeh"
     ]
    },
    {
     "cell_type": "code",
     "collapsed": false,
     "input": [
      "from ggplot import *\n",
      "from bokeh import mpl\n",
      "from bokeh.plotting import show\n",
      "import matplotlib.pyplot as plt"
     ],
     "language": "python",
     "metadata": {},
     "outputs": []
    },
    {
     "cell_type": "code",
     "collapsed": false,
     "input": [
      "g = ggplot(diamonds, aes(x='price', color='cut')) + \\\n",
      "    geom_density()\n",
      "\n",
      "g.draw()\n",
      "\n",
      "plt.title(\"Density ggplot-based plot in Bokeh.\")\n",
      "\n",
      "show(mpl.to_bokeh(notebook=True))"
     ],
     "language": "python",
     "metadata": {},
     "outputs": []
    },
    {
     "cell_type": "code",
     "collapsed": false,
     "input": [
      "g = ggplot(aes(x='date', y='beef'), data=meat) + \\\n",
      "    geom_line()\n",
      "\n",
      "g.draw()\n",
      "\n",
      "plt.title(\"Line ggplot-based plot in Bokeh.\")\n",
      "\n",
      "show(mpl.to_bokeh(notebook=True))"
     ],
     "language": "python",
     "metadata": {},
     "outputs": []
    },
    {
     "cell_type": "code",
     "collapsed": false,
     "input": [
      "import numpy as np\n",
      "import pandas as pd\n",
      "\n",
      "df = pd.DataFrame({\n",
      "    \"x\": range(100),\n",
      "    \"y\": np.random.choice([-1, 1], 100)\n",
      "})\n",
      "\n",
      "df.y = df.y.cumsum()\n",
      "\n",
      "g = ggplot(aes(x='x', y='y'), data=df) + \\\n",
      "    geom_step()\n",
      "g.draw()\n",
      "\n",
      "plt.title(\"Step ggplot-based plot in Bokeh.\")\n",
      "\n",
      "show(mpl.to_bokeh(notebook=True))"
     ],
     "language": "python",
     "metadata": {},
     "outputs": []
    },
    {
     "cell_type": "code",
     "collapsed": false,
     "input": [],
     "language": "python",
     "metadata": {},
     "outputs": []
    }
   ],
   "metadata": {}
  }
 ]
}