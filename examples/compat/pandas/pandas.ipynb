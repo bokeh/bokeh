{
 "metadata": {
  "name": "",
  "signature": "sha256:925bab4e67f2b2fa2c269c5c156b0d0ea0aa6341a2599fe8b898fc99ff376418"
 },
 "nbformat": 3,
 "nbformat_minor": 0,
 "worksheets": [
  {
   "cells": [
    {
     "cell_type": "heading",
     "level": 1,
     "metadata": {},
     "source": [
      "Some examples of pandas-based plots rendered by Bokeh"
     ]
    },
    {
     "cell_type": "code",
     "collapsed": false,
     "input": [
      "import numpy as np\n",
      "import pandas as pd\n",
      "from bokeh import mpl\n",
      "from bokeh.plotting import show"
     ],
     "language": "python",
     "metadata": {},
     "outputs": []
    },
    {
     "cell_type": "code",
     "collapsed": false,
     "input": [
      "ts = pd.Series(np.random.randn(1000), index=pd.date_range('1/1/2000', periods=1000))\n",
      "ts = ts.cumsum()\n",
      "p = ts.plot()\n",
      "\n",
      "show(mpl.to_bokeh(notebook=True))"
     ],
     "language": "python",
     "metadata": {},
     "outputs": []
    },
    {
     "cell_type": "code",
     "collapsed": false,
     "input": [
      "ts = pd.Series(np.random.randn(1000), index=pd.date_range('1/1/2000', periods=1000))\n",
      "ts = ts.cumsum()\n",
      "\n",
      "df = pd.DataFrame(np.random.randn(1000, 4), index=ts.index, columns=list('ABCD'))\n",
      "df = df.cumsum()\n",
      "df.plot(legend=False)\n",
      "\n",
      "show(mpl.to_bokeh(notebook=True))"
     ],
     "language": "python",
     "metadata": {},
     "outputs": []
    },
    {
     "cell_type": "code",
     "collapsed": false,
     "input": [],
     "language": "python",
     "metadata": {},
     "outputs": []
    }
   ],
   "metadata": {}
  }
 ]
}