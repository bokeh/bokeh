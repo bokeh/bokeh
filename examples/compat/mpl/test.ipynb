{
 "metadata": {
  "name": "",
  "signature": "sha256:e2a82c3112d292f06cd060e0732a6e09dfc9494ad778fff101ef9c85abcae195"
 },
 "nbformat": 3,
 "nbformat_minor": 0,
 "worksheets": [
  {
   "cells": [
    {
     "cell_type": "code",
     "collapsed": false,
     "input": [
      "import numpy as np\n",
      "import matplotlib.pyplot as plt\n",
      "from bokeh import mpl\n",
      "\n",
      "x = np.linspace(-2 * np.pi, 2 * np.pi, 100)\n",
      "y = np.sin(10 * x)\n",
      "\n",
      "plt.plot(x, y, \"g-\")\n",
      "plt.title(\"Matplotlib Figure in Bokeh\")\n",
      "\n",
      "mpl.to_bokeh(notebook=True)"
     ],
     "language": "python",
     "metadata": {},
     "outputs": []
    },
    {
     "cell_type": "code",
     "collapsed": false,
     "input": [],
     "language": "python",
     "metadata": {},
     "outputs": []
    }
   ],
   "metadata": {}
  }
 ]
}