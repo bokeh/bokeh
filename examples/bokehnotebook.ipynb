{
 "metadata": {
  "name": "bokehnotebook"
 },
 "nbformat": 3,
 "nbformat_minor": 0,
 "worksheets": [
  {
   "cells": [
    {
     "cell_type": "code",
     "collapsed": false,
     "input": [
      "from bokeh import mpl\n",
      "import numpy as np\n",
      "p = mpl.PlotClient()\n",
      "p.notebooksources()\n"
     ],
     "language": "python",
     "metadata": {},
     "outputs": []
    },
    {
     "cell_type": "code",
     "collapsed": false,
     "input": [
      "x = np.arange(100) / 6.0\n",
      "y = np.sin(x)\n",
      "z = np.cos(x)\n",
      "data_source = p.make_source(idx=range(100), x=x, y=y, z=z)\n",
      "plot = p.plot('x', 'y', 'orange', data_source=data_source)\n",
      "plot.notebook()\n",
      "p.figure()\n",
      "plot = p.plot('x', 'z', 'blue', data_source=data_source)\n",
      "p.figure()\n",
      "plot.notebook()\n",
      "\n"
     ],
     "language": "python",
     "metadata": {},
     "outputs": []
    },
    {
     "cell_type": "code",
     "collapsed": false,
     "input": [
      "plot1 = p.plot('x', 'y', 'orange', data_source=data_source)\n",
      "p.figure()\n",
      "plot2 = p.plot('x', 'z', 'blue', data_source=data_source)\n",
      "p.figure()\n",
      "grid = p.grid([[plot1,plot2]])\n",
      "grid.notebook()\n",
      "grid.htmldump('grid.html')\n"
     ],
     "language": "python",
     "metadata": {},
     "outputs": []
    },
    {
     "cell_type": "code",
     "collapsed": false,
     "input": [
      "import pandas\n",
      "from bokeh.functional import *\n",
      "from bokeh import mpl\n",
      "df = pandas.read_csv(\"../tests/auto-mpg.csv\")\n",
      "g = ggplot(df, aes(\"displ\", \"mpg\", color=\"green\")) + facet_grid(\"cyl\", \"origin\") + geom_point()\n",
      "g.to_html(notebook=True)"
     ],
     "language": "python",
     "metadata": {},
     "outputs": []
    },
    {
     "cell_type": "code",
     "collapsed": false,
     "input": [],
     "language": "python",
     "metadata": {},
     "outputs": []
    }
   ],
   "metadata": {}
  }
 ]
}